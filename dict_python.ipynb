{
 "cells": [
  {
   "cell_type": "code",
   "execution_count": 2,
   "id": "f3d970f3-cfa9-4fd7-96b2-fce723145114",
   "metadata": {},
   "outputs": [
    {
     "name": "stdout",
     "output_type": "stream",
     "text": [
      "{'ename': 'sree', 'id': 101, 'salary': 50000, 'hike': True}\n"
     ]
    }
   ],
   "source": [
    "#python dict data structure-stores data as key:value pair\n",
    "dict1={\"ename\":\"sree\",\"id\":101,\"salary\":50000,\"hike\":True}\n",
    "print(dict1)"
   ]
  },
  {
   "cell_type": "code",
   "execution_count": 1,
   "id": "70574c02-b72c-4e77-b2dd-0ff283e904ea",
   "metadata": {},
   "outputs": [
    {
     "name": "stdout",
     "output_type": "stream",
     "text": [
      "{'color': 'red', 'year': 2018, 'new': True, 'name': 'xyz'}\n"
     ]
    }
   ],
   "source": [
    "#dict()constructer\n",
    "dict2=dict(color='red',year=2018,new=True,name='xyz')\n",
    "print(dict2)"
   ]
  },
  {
   "cell_type": "code",
   "execution_count": 5,
   "id": "8bb05d55-1d70-4e57-a32b-5bdaf54da087",
   "metadata": {},
   "outputs": [
    {
     "name": "stdout",
     "output_type": "stream",
     "text": [
      "sree\n"
     ]
    }
   ],
   "source": [
    "#read dict elements using keys\n",
    "dict1={\"ename\":\"sree\",\"id\":101,\"salary\":50000,\"hike\":True}\n",
    "print(dict1[\"ename\"])"
   ]
  },
  {
   "cell_type": "code",
   "execution_count": 6,
   "id": "ba3a7b60-787f-4164-aab2-2dc5da6e2701",
   "metadata": {},
   "outputs": [
    {
     "name": "stdout",
     "output_type": "stream",
     "text": [
      "sree\n",
      "101\n",
      "50000\n",
      "True\n"
     ]
    }
   ],
   "source": [
    "for key in dict1:\n",
    "    print(dict1[key])"
   ]
  },
  {
   "cell_type": "code",
   "execution_count": 8,
   "id": "a75d402f-e363-4fc9-b257-ad9b1f3806b3",
   "metadata": {},
   "outputs": [
    {
     "name": "stdout",
     "output_type": "stream",
     "text": [
      "101\n"
     ]
    }
   ],
   "source": [
    "#access elements using get()\n",
    "element=dict1.get(\"id\")\n",
    "print(element)"
   ]
  },
  {
   "cell_type": "code",
   "execution_count": 14,
   "id": "0dd4e733-3afc-440a-9fd6-db2c490564ed",
   "metadata": {},
   "outputs": [
    {
     "name": "stdout",
     "output_type": "stream",
     "text": [
      "dict_keys(['ename', 'id', 'salary', 'hike', 'year'])\n",
      "dict_values(['sree', 101, 50000, True, 2018])\n",
      "dict_items([('ename', 'sree'), ('id', 101), ('salary', 50000), ('hike', True), ('year', 2018)])\n",
      "True\n"
     ]
    }
   ],
   "source": [
    "#get keys of dict\n",
    "print(dict1.keys())\n",
    "#get values of dict\n",
    "print(dict1.values())\n",
    "#get items from dict\n",
    "print(dict1.items())\n",
    "#to get presence of element\n",
    "print(True if \"hike\" in dict1 else False)"
   ]
  },
  {
   "cell_type": "code",
   "execution_count": 11,
   "id": "944e4784-46eb-4421-9452-caeedc5ce341",
   "metadata": {},
   "outputs": [
    {
     "name": "stdout",
     "output_type": "stream",
     "text": [
      "{'ename': 'sree', 'id': 101, 'salary': 50000, 'hike': True, 'year': 2018}\n"
     ]
    }
   ],
   "source": [
    "#add new elements\n",
    "dict1={\"ename\":\"sree\",\"id\":101,\"salary\":50000,\"hike\":True}\n",
    "dict1[\"year\"]=2018\n",
    "print(dict1)"
   ]
  },
  {
   "cell_type": "code",
   "execution_count": 20,
   "id": "d40b0c93-d7fc-4ba6-960d-109ae28ff65d",
   "metadata": {},
   "outputs": [
    {
     "name": "stdout",
     "output_type": "stream",
     "text": [
      "{'ename': 'sree', 'id': 101, 'salary': 60000, 'hike': True, 'year': 2018}\n",
      "None\n"
     ]
    }
   ],
   "source": [
    "#update dict values\n",
    "dict1[\"salary\"]=60000\n",
    "print(dict1)\n",
    "#using update()\n",
    "temp=dict1.update({\"year\":2019})\n",
    "print(temp)"
   ]
  },
  {
   "cell_type": "code",
   "execution_count": 30,
   "id": "12568c05-220f-4253-a350-400f66173df4",
   "metadata": {},
   "outputs": [
    {
     "name": "stdout",
     "output_type": "stream",
     "text": [
      "{'ename': 'sree', 'salary': 50000, 'hike': True}\n"
     ]
    }
   ],
   "source": [
    "#remove elements from dict\n",
    "dict1={\"ename\":\"sree\",\"id\":101,\"salary\":50000,\"hike\":True}\n",
    "dict1.pop(\"id\") #removes specific item based on given key\n",
    "print(dict1)"
   ]
  },
  {
   "cell_type": "code",
   "execution_count": 31,
   "id": "0ca253a2-ccad-47ea-b318-432761d7af33",
   "metadata": {},
   "outputs": [
    {
     "name": "stdout",
     "output_type": "stream",
     "text": [
      "{'ename': 'sree', 'id': 101, 'salary': 50000}\n"
     ]
    }
   ],
   "source": [
    "dict1={\"ename\":\"sree\",\"id\":101,\"salary\":50000,\"hike\":True}\n",
    "dict1.popitem() #removes last item\n",
    "print(dict1)"
   ]
  },
  {
   "cell_type": "code",
   "execution_count": 32,
   "id": "7b1169d3-c1ed-4a90-b529-d37e98ce10ba",
   "metadata": {},
   "outputs": [
    {
     "name": "stdout",
     "output_type": "stream",
     "text": [
      "{}\n"
     ]
    }
   ],
   "source": [
    "dict1.clear() #clears elements in the dict\n",
    "print(dict1)"
   ]
  },
  {
   "cell_type": "code",
   "execution_count": 33,
   "id": "7b340f3a-a1cc-4266-b151-d9b64eefab58",
   "metadata": {},
   "outputs": [
    {
     "ename": "NameError",
     "evalue": "name 'dict1' is not defined",
     "output_type": "error",
     "traceback": [
      "\u001b[1;31m---------------------------------------------------------------------------\u001b[0m",
      "\u001b[1;31mNameError\u001b[0m                                 Traceback (most recent call last)",
      "Cell \u001b[1;32mIn[33], line 2\u001b[0m\n\u001b[0;32m      1\u001b[0m \u001b[38;5;28;01mdel\u001b[39;00m dict1 \u001b[38;5;66;03m#deletes dict permanantly\u001b[39;00m\n\u001b[1;32m----> 2\u001b[0m \u001b[38;5;28mprint\u001b[39m(\u001b[43mdict1\u001b[49m)\n",
      "\u001b[1;31mNameError\u001b[0m: name 'dict1' is not defined"
     ]
    }
   ],
   "source": [
    "del dict1 #deletes dict permanantly\n",
    "print(dict1)"
   ]
  },
  {
   "cell_type": "code",
   "execution_count": 1,
   "id": "389dfb02-fb9f-48b0-b8ae-deefa10cf1bf",
   "metadata": {},
   "outputs": [
    {
     "name": "stdout",
     "output_type": "stream",
     "text": [
      "ename\n",
      "id\n",
      "salary\n",
      "hike\n",
      "sree\n",
      "101\n",
      "50000\n",
      "True\n"
     ]
    }
   ],
   "source": [
    "#loops\n",
    "dict1={\"ename\":\"sree\",\"id\":101,\"salary\":50000,\"hike\":True}\n",
    "for x in dict1:\n",
    "    print(x) #key\n",
    "for y in dict1:\n",
    "    print(dict1[y]) #value"
   ]
  },
  {
   "cell_type": "code",
   "execution_count": 3,
   "id": "bf7d61fc-40b1-4d48-a88e-70e9aa1e399e",
   "metadata": {},
   "outputs": [
    {
     "name": "stdout",
     "output_type": "stream",
     "text": [
      "ename sree\n",
      "id 101\n",
      "salary 50000\n",
      "hike True\n"
     ]
    }
   ],
   "source": [
    "dict1={\"ename\":\"sree\",\"id\":101,\"salary\":50000,\"hike\":True}\n",
    "for x,y in dict1.items():\n",
    "    print(x,y)"
   ]
  },
  {
   "cell_type": "code",
   "execution_count": 4,
   "id": "706b86a5-33f4-4c40-b34e-c73c92e7f892",
   "metadata": {},
   "outputs": [
    {
     "name": "stdout",
     "output_type": "stream",
     "text": [
      "{'ename': 'sree', 'id': 101, 'salary': 50000, 'hike': True}\n",
      "{'ename': 'sree', 'id': 101, 'salary': 50000, 'hike': True}\n"
     ]
    }
   ],
   "source": [
    "#copy() and dict()\n",
    "dict2=dict1.copy()\n",
    "dict3=dict(dict1)\n",
    "print(dict2)\n",
    "print(dict3)"
   ]
  },
  {
   "cell_type": "code",
   "execution_count": 9,
   "id": "2016876e-438e-4149-b8d0-68aca3321cd8",
   "metadata": {},
   "outputs": [
    {
     "name": "stdout",
     "output_type": "stream",
     "text": [
      "{'child1': {'name': 'a', 'year': 2000, 'g': 'm'}, 'child2': {'name': 'b', 'year': 2002, 'g': 'fm'}, 'child3': {'name': 'c', 'year': 2004, 'g': 'm'}}\n",
      "c\n"
     ]
    }
   ],
   "source": [
    "#nested dict\n",
    "child1={'name':'a','year':2000,'g':'m'}\n",
    "child2={'name':'b','year':2002,'g':'fm'}\n",
    "child3={'name':'c','year':2004,'g':'m'}\n",
    "fam={\"child1\":child1,\"child2\":child2,\"child3\":child3}\n",
    "print(fam)\n",
    "print(fam['child3']['name'])"
   ]
  },
  {
   "cell_type": "code",
   "execution_count": null,
   "id": "8611372f-06d3-456a-a5b5-e4f6947da51c",
   "metadata": {},
   "outputs": [],
   "source": []
  }
 ],
 "metadata": {
  "kernelspec": {
   "display_name": "Python 3 (ipykernel)",
   "language": "python",
   "name": "python3"
  },
  "language_info": {
   "codemirror_mode": {
    "name": "ipython",
    "version": 3
   },
   "file_extension": ".py",
   "mimetype": "text/x-python",
   "name": "python",
   "nbconvert_exporter": "python",
   "pygments_lexer": "ipython3",
   "version": "3.10.2"
  }
 },
 "nbformat": 4,
 "nbformat_minor": 5
}
